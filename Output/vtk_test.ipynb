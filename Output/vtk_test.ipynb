{
 "cells": [
  {
   "cell_type": "code",
   "execution_count": 2,
   "metadata": {},
   "outputs": [
    {
     "data": {
      "text/plain": [
       "'C:\\\\Users\\\\Moritz\\\\Programmieren\\\\BachelorarbeitTest\\\\Test_results\\\\barriersseq.vts'"
      ]
     },
     "execution_count": 2,
     "metadata": {},
     "output_type": "execute_result"
    }
   ],
   "source": [
    "from pyevtk.hl import gridToVTK\n",
    "import numpy as np  \n",
    "\n",
    "def arr_index(x,y,z):\n",
    "    return x+y*x_grid_size+z*x_grid_size*y_grid_size;\n",
    "\n",
    "\n",
    "\n",
    "\n",
    "file_name= \"output.txt\"\n",
    "\n",
    "with open(file_name, \"r\") as f:\n",
    "    content = f.readlines()\n",
    "f.close()\n",
    "\n",
    "content = [x.strip() for x in content]\n",
    "mask_index = content.index(\"Mask information\")\n",
    "result_index= content.index(\"Result information\")\n",
    "\n",
    "content=np.array(content)\n",
    "content=np.split(content,[mask_index,result_index])\n",
    "information_array=content[0]\n",
    "\n",
    "x_grid_size = int(information_array[1])\n",
    "y_grid_size = int(information_array[2])\n",
    "z_grid_size = int(information_array[3])\n",
    "total_grid_size=x_grid_size*y_grid_size*z_grid_size\n",
    "\n",
    "mask_array=np.array([int(content[1][i+1]) for i in range(total_grid_size)])\n",
    "res_array=np.array([float(content[2][i+1]) for i in range(total_grid_size)])\n",
    "\n",
    "mask_array_3d=np.zeros((x_grid_size, y_grid_size, z_grid_size))\n",
    "res_array_3d=np.zeros((x_grid_size, y_grid_size, z_grid_size))\n",
    "\n",
    "\n",
    "\n",
    "for x in range(x_grid_size):\n",
    "    for y in range(y_grid_size):\n",
    "        for z in range(z_grid_size):\n",
    "            mask_array_3d[x][y][z]=mask_array[arr_index(x,y,z)]\n",
    "            res_array_3d[x][y][z]=res_array[arr_index(x,y,z)]\n",
    "\n",
    "#Dimensions\n",
    "nx,ny,nz = x_grid_size-1, y_grid_size-1, z_grid_size-1\n",
    "\n",
    "lx,ly,lz = 64, 64, 64\n",
    "dx, dy, dz = lx / nx, ly / ny, lz / nz\n",
    "\n",
    "ncells = nx * ny * nz\n",
    "npoints = (nx + 1) * (ny + 1) * (nz + 1)\n",
    "\n",
    "# Coordinates\n",
    "X = np.arange(0, lx + 0.1 * dx, dx, dtype=\"float64\")\n",
    "Y = np.arange(0, ly + 0.1 * dy, dy, dtype=\"float64\")\n",
    "Z = np.arange(0, lz + 0.1 * dz, dz, dtype=\"float64\")\n",
    "\n",
    "x = np.zeros((nx + 1, ny + 1, nz + 1))\n",
    "y = np.zeros((nx + 1, ny + 1, nz + 1))\n",
    "z = np.zeros((nx + 1, ny + 1, nz + 1))\n",
    "\n",
    "for k in range(nz + 1):\n",
    "    for j in range(ny + 1):\n",
    "        for i in range(nx + 1):\n",
    "            x[i, j, k] = X[i]\n",
    "            y[i, j, k] = Y[j]\n",
    "            z[i, j, k] = Z[k]\n",
    "\n",
    "exit_str= \"./output\"\n",
    "gridToVTK(\n",
    "    exit_str,\n",
    "    x,\n",
    "    y,\n",
    "    z,\n",
    "    pointData={\"mask\": mask_array_3d, \"result\": res_array_3d},\n",
    ")\n"
   ]
  },
  {
   "cell_type": "code",
   "execution_count": null,
   "metadata": {},
   "outputs": [],
   "source": []
  },
  {
   "cell_type": "code",
   "execution_count": null,
   "metadata": {},
   "outputs": [],
   "source": []
  }
 ],
 "metadata": {
  "kernelspec": {
   "display_name": "Python 3",
   "language": "python",
   "name": "python3"
  },
  "language_info": {
   "codemirror_mode": {
    "name": "ipython",
    "version": 3
   },
   "file_extension": ".py",
   "mimetype": "text/x-python",
   "name": "python",
   "nbconvert_exporter": "python",
   "pygments_lexer": "ipython3",
   "version": "3.7.3"
  }
 },
 "nbformat": 4,
 "nbformat_minor": 2
}
